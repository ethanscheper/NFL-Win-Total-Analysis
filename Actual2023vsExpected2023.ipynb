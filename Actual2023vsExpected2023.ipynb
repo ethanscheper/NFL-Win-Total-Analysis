{
 "cells": [
  {
   "cell_type": "markdown",
   "id": "f65c1b0d",
   "metadata": {},
   "source": [
    "# Actual vs. Expected Win Totals for NFL Teams, 2022-2023 Season\n",
    "## Plotting to see which teams exceeded expectations and which underwhelmed"
   ]
  },
  {
   "cell_type": "code",
   "execution_count": null,
   "id": "3ba29a01",
   "metadata": {},
   "outputs": [],
   "source": []
  }
 ],
 "metadata": {
  "kernelspec": {
   "display_name": "Python 3 (ipykernel)",
   "language": "python",
   "name": "python3"
  },
  "language_info": {
   "codemirror_mode": {
    "name": "ipython",
    "version": 3
   },
   "file_extension": ".py",
   "mimetype": "text/x-python",
   "name": "python",
   "nbconvert_exporter": "python",
   "pygments_lexer": "ipython3",
   "version": "3.10.6"
  }
 },
 "nbformat": 4,
 "nbformat_minor": 5
}
